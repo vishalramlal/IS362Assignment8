{
 "cells": [
  {
   "cell_type": "markdown",
   "id": "199937f7",
   "metadata": {},
   "source": [
    "# IS362 Week 8 Assignment  \n",
    "Your task in this week’s assignment is to load a dataset, perform some minor cleanup and transformation tasks,then use exploratory data analysis to learn about the distribution of variables and the relationship between variables."
   ]
  },
  {
   "cell_type": "markdown",
   "id": "43f78835",
   "metadata": {},
   "source": [
    "1. Load the data in the (yellow highlighted) Data Folder in the file auto-mpg.data into a pandas DataFrame. "
   ]
  },
  {
   "cell_type": "code",
   "execution_count": null,
   "id": "e7b2057f",
   "metadata": {},
   "outputs": [],
   "source": [
    "import pandas as pd\n",
    "from matplotlib import pyplot as plt\n",
    "import seaborn as sb\n",
    "import numpy as np\n",
    "%matplotlib inline\n",
    "\n",
    "auto_data_raw = pd.read_csv('./auto-mpg.data')"
   ]
  },
  {
   "cell_type": "markdown",
   "id": "713496a5",
   "metadata": {},
   "source": [
    "2. Review the data and the provided data set description."
   ]
  },
  {
   "cell_type": "code",
   "execution_count": null,
   "id": "7d0296d8",
   "metadata": {},
   "outputs": [],
   "source": [
    "auto_data_raw"
   ]
  },
  {
   "cell_type": "markdown",
   "id": "06bdf062",
   "metadata": {},
   "source": [
    "3. Use the attribute information provided in auto-mpg.names to name your pandas DataFrame columns."
   ]
  },
  {
   "cell_type": "code",
   "execution_count": null,
   "id": "8463aca9",
   "metadata": {},
   "outputs": [],
   "source": [
    "col_names = ['mpg', 'cylinders', 'displacement', 'horsepower', 'weight', 'acceleration', 'model year', 'origin', 'car name']\n",
    "auto_data = pd.read_fwf('./auto-mpg.data', names = col_names)\n",
    "\n",
    "shift_col = auto_data.columns.tolist()\n",
    "shift_col = shift_col[-1:] + shift_col[:-1]\n",
    "\n",
    "auto_data = auto_data[shift_col]\n",
    "auto_data"
   ]
  },
  {
   "cell_type": "markdown",
   "id": "11b1e971",
   "metadata": {},
   "source": [
    "4. Some of the horsepower data is marked as missing with a ‘?’.  You need to replace this ‘?’ with a pandas-appropriate missing value, then convert the column to numeric."
   ]
  },
  {
   "cell_type": "code",
   "execution_count": null,
   "id": "187d4b2a",
   "metadata": {},
   "outputs": [],
   "source": [
    "auto_data = auto_data.replace(to_replace = '?', value = np.nan)\n",
    "auto_data['horsepower'] = auto_data['horsepower'].astype(float)"
   ]
  },
  {
   "cell_type": "markdown",
   "id": "71810e82",
   "metadata": {},
   "source": [
    "5.The origin column values are 1, 2, and 3.  Convert these values respectively to ‘USA’, ‘Asia’, and ‘Europe’"
   ]
  },
  {
   "cell_type": "code",
   "execution_count": null,
   "id": "4541cea9",
   "metadata": {},
   "outputs": [],
   "source": [
    "auto_data['origin'].replace(1, 'USA', inplace = True)\n",
    "auto_data['origin'].replace(2, 'Asia', inplace = True)\n",
    "auto_data['origin'].replace(3, 'Europe', inplace = True)\n",
    "auto_data"
   ]
  },
  {
   "cell_type": "markdown",
   "id": "61e1f843",
   "metadata": {},
   "source": [
    "6.Create a bar chart that shows the distribution for cylinders"
   ]
  },
  {
   "cell_type": "code",
   "execution_count": null,
   "id": "6a61130b",
   "metadata": {},
   "outputs": [],
   "source": [
    "barchart = auto_data['cylinders'].plot(kind = 'bar')\n",
    "auto_data.groupby('cylinders')\n",
    "barchart"
   ]
  },
  {
   "cell_type": "markdown",
   "id": "f9d05317",
   "metadata": {},
   "source": [
    "7. Create a scatterplot that shows the relationship between horsepower and weight."
   ]
  },
  {
   "cell_type": "code",
   "execution_count": null,
   "id": "de5d67c3",
   "metadata": {},
   "outputs": [],
   "source": [
    "plt.scatter(auto_data['horsepower'], auto_data['weight'])"
   ]
  },
  {
   "cell_type": "markdown",
   "id": "1e89947a",
   "metadata": {},
   "source": [
    "8. Ask, then answer (using matplotlib and seaborn graphics capabilities) an interesting question about the distribution of one of the variables, or the relationship between two (or more!) of the variables in the “AutoMPG” dataset.\n",
    "#### Show the relationship between horsepower and model year in a barchart."
   ]
  },
  {
   "cell_type": "code",
   "execution_count": null,
   "id": "4efa7de4",
   "metadata": {},
   "outputs": [],
   "source": [
    "barchart2 = auto_data['horsepower'].plot(kind = 'bar')\n",
    "auto_data.groupby('model year')\n",
    "barchart2"
   ]
  }
 ],
 "metadata": {
  "kernelspec": {
   "display_name": "Python 3",
   "language": "python",
   "name": "python3"
  },
  "language_info": {
   "codemirror_mode": {
    "name": "ipython",
    "version": 3
   },
   "file_extension": ".py",
   "mimetype": "text/x-python",
   "name": "python",
   "nbconvert_exporter": "python",
   "pygments_lexer": "ipython3",
   "version": "3.8.10"
  }
 },
 "nbformat": 4,
 "nbformat_minor": 5
}
